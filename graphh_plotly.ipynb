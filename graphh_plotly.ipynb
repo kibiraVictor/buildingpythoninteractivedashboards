{
 "cells": [
  {
   "cell_type": "code",
   "execution_count": null,
   "id": "2a4dff7c-2d49-48c3-a553-32297194db02",
   "metadata": {},
   "outputs": [],
   "source": [
    "import plotly.graph_objects as go"
   ]
  },
  {
   "cell_type": "code",
   "execution_count": null,
   "id": "d500bd19-a3a6-49b0-91ac-295d34695f7e",
   "metadata": {},
   "outputs": [],
   "source": [
    "fig = go.Figure()\n",
    "fig.add_scatter(x=[1,2,3,4], y=[4,5,6,7])\n",
    "fig.add_scatter(x=[1,2,3], y=[4,5,6])\n",
    "fig.layout.title = 'This is the figure title'\n",
    "fig.layout.xaxis.title = 'The X-axis title'\n",
    "fig.layout.yaxis.title = 'The Y-axis title'\n",
    "fig.show()"
   ]
  },
  {
   "cell_type": "code",
   "execution_count": null,
   "id": "de453a24-aeb4-47a6-bca5-183ffdaeb88f",
   "metadata": {},
   "outputs": [],
   "source": [
    "fig.show('json')"
   ]
  },
  {
   "cell_type": "code",
   "execution_count": null,
   "id": "7195c79a-8450-4bb0-afde-da66d814eb06",
   "metadata": {},
   "outputs": [],
   "source": [
    "fig.show(config={'displaylogo': False,\n",
    " 'modeBarButtonsToAdd': ['drawrect',\n",
    " 'drawcircle',\n",
    " 'eraseshape']})\n"
   ]
  },
  {
   "cell_type": "code",
   "execution_count": null,
   "id": "b4f2c2b2-d70b-447f-a2df-120349bb0a21",
   "metadata": {},
   "outputs": [],
   "source": [
    "fig.write_html('html_plot.html',\n",
    " config={'toImageButtonOptions':\n",
    " {'format': 'svg'}})"
   ]
  },
  {
   "cell_type": "code",
   "execution_count": null,
   "id": "c5780be5-d59b-4475-8651-548e731a7784",
   "metadata": {},
   "outputs": [],
   "source": [
    "fig.write_image('image_file.svg', height=600, width=850)"
   ]
  },
  {
   "cell_type": "code",
   "execution_count": null,
   "id": "c9b97fbf-3e13-4033-96d0-c9df7a881b31",
   "metadata": {},
   "outputs": [],
   "source": [
    "! pip install -U kaleido"
   ]
  },
  {
   "cell_type": "code",
   "execution_count": null,
   "id": "0adf13c9-a0f7-4454-9112-66d271f1ff5e",
   "metadata": {},
   "outputs": [],
   "source": []
  }
 ],
 "metadata": {
  "kernelspec": {
   "display_name": "Python 3 (ipykernel)",
   "language": "python",
   "name": "python3"
  },
  "language_info": {
   "codemirror_mode": {
    "name": "ipython",
    "version": 3
   },
   "file_extension": ".py",
   "mimetype": "text/x-python",
   "name": "python",
   "nbconvert_exporter": "python",
   "pygments_lexer": "ipython3",
   "version": "3.12.2"
  }
 },
 "nbformat": 4,
 "nbformat_minor": 5
}

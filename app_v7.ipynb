{
 "cells": [
  {
   "cell_type": "code",
   "execution_count": 1,
   "id": "5f0163a9-8514-423e-82d2-2d305a97c991",
   "metadata": {},
   "outputs": [],
   "source": [
    "import dash\n",
    "from dash import html\n",
    "from dash import dcc\n",
    "import dash_bootstrap_components as dbc"
   ]
  },
  {
   "cell_type": "code",
   "execution_count": 2,
   "id": "ced9e620-06ed-4c14-838c-d278b13709a2",
   "metadata": {},
   "outputs": [],
   "source": [
    "app = dash.Dash(__name__)"
   ]
  },
  {
   "cell_type": "code",
   "execution_count": 4,
   "id": "4ccfd4aa-697e-4f00-a623-a670df097335",
   "metadata": {},
   "outputs": [],
   "source": [
    "app.layout = html.Div([\n",
    "    html.H2(id='h2 text'),\n",
    "    dcc.Slider(id='slider'),\n",
    "    dcc.Dropdown(id='color_dropdown', options=[{\n",
    "        'label': color, 'value': color\n",
    "    } for color in ['blue', 'green','yellow']])\n",
    "])"
   ]
  },
  {
   "cell_type": "code",
   "execution_count": 5,
   "id": "c93f948d-ffef-4a6a-bc14-3e773e91b6f4",
   "metadata": {},
   "outputs": [],
   "source": [
    "def display_color_selected(color):\n",
    "    if color is None:\n",
    "        color = 'nothing'\n",
    "        return 'you selected' + color"
   ]
  },
  {
   "cell_type": "code",
   "execution_count": 6,
   "id": "c7d45159-7457-40fa-862a-b413b93c26ee",
   "metadata": {},
   "outputs": [
    {
     "data": {
      "text/html": [
       "\n",
       "        <iframe\n",
       "            width=\"100%\"\n",
       "            height=\"650\"\n",
       "            src=\"http://127.0.0.1:8057/\"\n",
       "            frameborder=\"0\"\n",
       "            allowfullscreen\n",
       "            \n",
       "        ></iframe>\n",
       "        "
      ],
      "text/plain": [
       "<IPython.lib.display.IFrame at 0x7f6b3b63f680>"
      ]
     },
     "metadata": {},
     "output_type": "display_data"
    }
   ],
   "source": [
    "if __name__ == '__main__':\n",
    "    app.run_server(debug=True, port=8057)"
   ]
  },
  {
   "cell_type": "code",
   "execution_count": null,
   "id": "79cd0438-97ed-4327-a8ad-478e99b78633",
   "metadata": {},
   "outputs": [],
   "source": []
  }
 ],
 "metadata": {
  "kernelspec": {
   "display_name": "Python 3 (ipykernel)",
   "language": "python",
   "name": "python3"
  },
  "language_info": {
   "codemirror_mode": {
    "name": "ipython",
    "version": 3
   },
   "file_extension": ".py",
   "mimetype": "text/x-python",
   "name": "python",
   "nbconvert_exporter": "python",
   "pygments_lexer": "ipython3",
   "version": "3.12.2"
  }
 },
 "nbformat": 4,
 "nbformat_minor": 5
}

{
 "cells": [
  {
   "cell_type": "code",
   "execution_count": 16,
   "id": "633780fc-d149-4654-94c8-bbef346ee16b",
   "metadata": {},
   "outputs": [],
   "source": [
    "import dash\n",
    "from dash import dcc\n",
    "from dash import html\n",
    "import dash_bootstrap_components as dbc"
   ]
  },
  {
   "cell_type": "code",
   "execution_count": 17,
   "id": "3925f1e6-1a3d-451c-a166-1b63c3cc32cd",
   "metadata": {},
   "outputs": [],
   "source": [
    "app = dash.Dash(__name__, external_stylesheets=['dbc.themes.DARKLY'])"
   ]
  },
  {
   "cell_type": "code",
   "execution_count": 18,
   "id": "f59175df-4ed0-4080-bd03-b53e15ed4e9c",
   "metadata": {},
   "outputs": [],
   "source": [
    "app.layout = html.Div([\n",
    "    dcc.Dropdown(\n",
    "        options=[{'label': color, 'value': color} for color in ['blue', 'green','yellow']]\n",
    "    )\n",
    "])"
   ]
  },
  {
   "cell_type": "code",
   "execution_count": 19,
   "id": "bd080674-f5f2-42e4-86e1-084ebe000593",
   "metadata": {},
   "outputs": [],
   "source": [
    "def display_selected_color(color):\n",
    "    if color is None:\n",
    "        color='nothing'\n",
    "        return 'you selected ' + color"
   ]
  },
  {
   "cell_type": "code",
   "execution_count": 20,
   "id": "771729ed-345a-4af1-bdc5-1fd4b8f6e649",
   "metadata": {},
   "outputs": [
    {
     "data": {
      "text/html": [
       "\n",
       "        <iframe\n",
       "            width=\"100%\"\n",
       "            height=\"650\"\n",
       "            src=\"http://127.0.0.1:8054/\"\n",
       "            frameborder=\"0\"\n",
       "            allowfullscreen\n",
       "            \n",
       "        ></iframe>\n",
       "        "
      ],
      "text/plain": [
       "<IPython.lib.display.IFrame at 0x7f862ddf9fa0>"
      ]
     },
     "metadata": {},
     "output_type": "display_data"
    }
   ],
   "source": [
    "if __name__ == \"__main__\":\n",
    "    app.run_server(debug=True, port =8054)"
   ]
  },
  {
   "cell_type": "code",
   "execution_count": null,
   "id": "790a1d06-a5be-43fc-98d0-0929dabc1939",
   "metadata": {},
   "outputs": [],
   "source": []
  }
 ],
 "metadata": {
  "kernelspec": {
   "display_name": "Python 3 (ipykernel)",
   "language": "python",
   "name": "python3"
  },
  "language_info": {
   "codemirror_mode": {
    "name": "ipython",
    "version": 3
   },
   "file_extension": ".py",
   "mimetype": "text/x-python",
   "name": "python",
   "nbconvert_exporter": "python",
   "pygments_lexer": "ipython3",
   "version": "3.12.2"
  }
 },
 "nbformat": 4,
 "nbformat_minor": 5
}

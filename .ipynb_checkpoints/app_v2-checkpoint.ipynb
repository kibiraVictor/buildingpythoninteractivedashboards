{
 "cells": [
  {
   "cell_type": "code",
   "execution_count": 13,
   "id": "7ad5d0d9-50a8-4319-8049-2b328a396c51",
   "metadata": {},
   "outputs": [],
   "source": [
    "import dash\n",
    "from dash import html"
   ]
  },
  {
   "cell_type": "code",
   "execution_count": 14,
   "id": "6824ca09-5c14-43fc-814d-67435af971b3",
   "metadata": {},
   "outputs": [],
   "source": [
    "app = dash.Dash(__name__)"
   ]
  },
  {
   "cell_type": "code",
   "execution_count": 15,
   "id": "916e7719-0656-4d41-b26a-8c3973308990",
   "metadata": {},
   "outputs": [],
   "source": [
    "app.layout = html.Div([\n",
    "    html.H1('poverty and equity database',\n",
    "           style = {\n",
    "               'color': 'blue',\n",
    "               'fontsize': '40px'\n",
    "           }),\n",
    "           html.H2('The World Bank'),\n",
    "           html.P('Key Facts'),\n",
    "           html.Ul([\n",
    "               html.Li('Number of Economies: 170'),\n",
    "               html.Li('Temporal Coverage: 1974-2019'),\n",
    "               html.Li('Update Frequency: Quarterly'),\n",
    "               html.Li('Last Updated: March 18, 2020'),\n",
    "               html.Li(['source', \n",
    "                       html.A('https://datacatalog.worldbank.org/dataset/poverty-and-equity-database', href='https://datacatalog.worldbank.org/dataste/poverty-and-equity-database')\n",
    "                       ])\n",
    "               \n",
    "           ])\n",
    "           \n",
    "])"
   ]
  },
  {
   "cell_type": "code",
   "execution_count": 16,
   "id": "2237cc4a-277d-4478-895d-458266a2b71c",
   "metadata": {},
   "outputs": [
    {
     "data": {
      "text/html": [
       "\n",
       "        <iframe\n",
       "            width=\"100%\"\n",
       "            height=\"650\"\n",
       "            src=\"http://127.0.0.1:8051/\"\n",
       "            frameborder=\"0\"\n",
       "            allowfullscreen\n",
       "            \n",
       "        ></iframe>\n",
       "        "
      ],
      "text/plain": [
       "<IPython.lib.display.IFrame at 0x7f9f00d377d0>"
      ]
     },
     "metadata": {},
     "output_type": "display_data"
    }
   ],
   "source": [
    "if __name__ == \"__main__\":\n",
    "    app.run_server(debug=True, port=8051)"
   ]
  },
  {
   "cell_type": "code",
   "execution_count": null,
   "id": "754b34c3-0cac-47af-993a-11313c8af860",
   "metadata": {},
   "outputs": [],
   "source": []
  }
 ],
 "metadata": {
  "kernelspec": {
   "display_name": "Python 3 (ipykernel)",
   "language": "python",
   "name": "python3"
  },
  "language_info": {
   "codemirror_mode": {
    "name": "ipython",
    "version": 3
   },
   "file_extension": ".py",
   "mimetype": "text/x-python",
   "name": "python",
   "nbconvert_exporter": "python",
   "pygments_lexer": "ipython3",
   "version": "3.12.2"
  }
 },
 "nbformat": 4,
 "nbformat_minor": 5
}

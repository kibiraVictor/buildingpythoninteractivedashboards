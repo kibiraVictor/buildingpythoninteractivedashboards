{
 "cells": [
  {
   "cell_type": "code",
   "execution_count": 4,
   "id": "5e10930e-45f5-40f3-8ef3-d91f3f6657fd",
   "metadata": {},
   "outputs": [],
   "source": [
    "import pandas as pd\n",
    "from sqlalchemy import create_engine"
   ]
  },
  {
   "cell_type": "code",
   "execution_count": 2,
   "id": "4b15b41e-759c-4332-962c-c0552f970f81",
   "metadata": {},
   "outputs": [],
   "source": [
    "poverty_data = pd.read_csv('data/PovStatsData.csv')"
   ]
  },
  {
   "cell_type": "code",
   "execution_count": 3,
   "id": "b34c2213-4d3d-4f38-b14d-3669347dcc09",
   "metadata": {},
   "outputs": [
    {
     "ename": "NameError",
     "evalue": "name 'population_df' is not defined",
     "output_type": "error",
     "traceback": [
      "\u001b[0;31m---------------------------------------------------------------------------\u001b[0m",
      "\u001b[0;31mNameError\u001b[0m                                 Traceback (most recent call last)",
      "Cell \u001b[0;32mIn[3], line 1\u001b[0m\n\u001b[0;32m----> 1\u001b[0m \u001b[43mpopulation_df\u001b[49m\u001b[38;5;241m.\u001b[39mhead(\u001b[38;5;241m3\u001b[39m)\n",
      "\u001b[0;31mNameError\u001b[0m: name 'population_df' is not defined"
     ]
    }
   ],
   "source": [
    "population_df.head(3)"
   ]
  },
  {
   "cell_type": "code",
   "execution_count": null,
   "id": "5a7cfbc9-ded1-4859-871b-9cff9a6a5537",
   "metadata": {},
   "outputs": [],
   "source": []
  }
 ],
 "metadata": {
  "kernelspec": {
   "display_name": "Python 3 (ipykernel)",
   "language": "python",
   "name": "python3"
  },
  "language_info": {
   "codemirror_mode": {
    "name": "ipython",
    "version": 3
   },
   "file_extension": ".py",
   "mimetype": "text/x-python",
   "name": "python",
   "nbconvert_exporter": "python",
   "pygments_lexer": "ipython3",
   "version": "3.12.2"
  }
 },
 "nbformat": 4,
 "nbformat_minor": 5
}

{
 "cells": [
  {
   "cell_type": "code",
   "execution_count": 29,
   "id": "2b518498-79a2-4b0c-8c45-68927217f8ca",
   "metadata": {},
   "outputs": [],
   "source": [
    "import dash\n",
    "from dash import html\n",
    "from dash import dcc\n",
    "import dash_bootstrap_components as dbc\n",
    "from dash.dependencies import Output, Input"
   ]
  },
  {
   "cell_type": "code",
   "execution_count": 30,
   "id": "9575a438-879c-4cbc-8cdb-7ec73b870cf7",
   "metadata": {},
   "outputs": [],
   "source": [
    "app = dash.Dash(__name__)"
   ]
  },
  {
   "cell_type": "code",
   "execution_count": 31,
   "id": "ed9c7666-1c18-4b72-973a-a550055ccaa1",
   "metadata": {},
   "outputs": [],
   "source": [
    "app.layout = html.Div([\n",
    "    html.H1('Poverty and Equity Database'),\n",
    "    dcc.Dropdown(id='color_dropdown', options=[{\n",
    "        'label': color, 'value' : color\n",
    "    } for color in ['blue', 'red','green']]),\n",
    "    html.Br(),\n",
    "    html.Div(id='color_output')\n",
    "])"
   ]
  },
  {
   "cell_type": "code",
   "execution_count": 32,
   "id": "21e5c906-766e-41ba-8d58-eb6e193d7157",
   "metadata": {},
   "outputs": [
    {
     "data": {
      "text/plain": [
       "<Output `color_output.children`>"
      ]
     },
     "execution_count": 32,
     "metadata": {},
     "output_type": "execute_result"
    }
   ],
   "source": [
    "Output(component_id='color_output', component_property='children')"
   ]
  },
  {
   "cell_type": "code",
   "execution_count": 33,
   "id": "a5be0003-33ac-4d7e-94e1-e4fb6733072f",
   "metadata": {},
   "outputs": [
    {
     "data": {
      "text/plain": [
       "<Input `color_dropdown.value`>"
      ]
     },
     "execution_count": 33,
     "metadata": {},
     "output_type": "execute_result"
    }
   ],
   "source": [
    "Input(component_id = 'color_dropdown', component_property='value')"
   ]
  },
  {
   "cell_type": "code",
   "execution_count": 34,
   "id": "67e185c9-4d9b-4cb5-87d3-c9221e2d7788",
   "metadata": {},
   "outputs": [],
   "source": [
    "@app.callback(Output('color_output', 'children'),\n",
    "             Input('color_dropdown', 'value'))\n",
    "def display_selected_color(color):\n",
    "    if color is None:\n",
    "        color = 'nothing'\n",
    "    return 'you selected ' + color"
   ]
  },
  {
   "cell_type": "code",
   "execution_count": 35,
   "id": "ae0a2e60-fb6b-4f13-8184-4420bdeb7fa0",
   "metadata": {},
   "outputs": [
    {
     "data": {
      "text/html": [
       "\n",
       "        <iframe\n",
       "            width=\"100%\"\n",
       "            height=\"650\"\n",
       "            src=\"http://127.0.0.1:8059/\"\n",
       "            frameborder=\"0\"\n",
       "            allowfullscreen\n",
       "            \n",
       "        ></iframe>\n",
       "        "
      ],
      "text/plain": [
       "<IPython.lib.display.IFrame at 0x7fcd7e28fce0>"
      ]
     },
     "metadata": {},
     "output_type": "display_data"
    }
   ],
   "source": [
    "if __name__ == \"__main__\":\n",
    "    app.run_server(debug=True, port=8059)\n",
    "    "
   ]
  },
  {
   "cell_type": "code",
   "execution_count": null,
   "id": "e047f022-be6a-4d99-a024-4a09be413b68",
   "metadata": {},
   "outputs": [],
   "source": []
  }
 ],
 "metadata": {
  "kernelspec": {
   "display_name": "Python 3 (ipykernel)",
   "language": "python",
   "name": "python3"
  },
  "language_info": {
   "codemirror_mode": {
    "name": "ipython",
    "version": 3
   },
   "file_extension": ".py",
   "mimetype": "text/x-python",
   "name": "python",
   "nbconvert_exporter": "python",
   "pygments_lexer": "ipython3",
   "version": "3.12.2"
  }
 },
 "nbformat": 4,
 "nbformat_minor": 5
}

{
 "cells": [
  {
   "cell_type": "code",
   "execution_count": 1,
   "id": "57425f26-9853-4f28-bfa5-baa6f116c253",
   "metadata": {},
   "outputs": [],
   "source": [
    "import dash\n",
    "from dash import html\n",
    "import dash_bootstrap_components as dbc"
   ]
  },
  {
   "cell_type": "code",
   "execution_count": 6,
   "id": "f9085efc-8409-4eaa-9e1e-6aa148e2ed1f",
   "metadata": {},
   "outputs": [
    {
     "data": {
      "text/plain": [
       "Col(children=['child1', 'child2', Ellipsis], lg=6, md=12)"
      ]
     },
     "execution_count": 6,
     "metadata": {},
     "output_type": "execute_result"
    }
   ],
   "source": [
    "dbc.Col(children=['child1', 'child2', ...], lg=6, md=12)"
   ]
  },
  {
   "cell_type": "code",
   "execution_count": 7,
   "id": "672b19a9-565f-40c7-9cd6-3689dcf93fbc",
   "metadata": {},
   "outputs": [
    {
     "data": {
      "text/plain": [
       "Col(children=['child1', 'child2', Ellipsis], lg={'size': 6, 'offset': 4}, md=12)"
      ]
     },
     "execution_count": 7,
     "metadata": {},
     "output_type": "execute_result"
    }
   ],
   "source": [
    "dbc.Col(children=['child1', 'child2', ...], lg={'size':6, 'offset': 4}, md=12)"
   ]
  },
  {
   "cell_type": "code",
   "execution_count": 9,
   "id": "5d4b588a-0099-41c8-8b31-412dd9862c91",
   "metadata": {},
   "outputs": [
    {
     "data": {
      "text/plain": [
       "Row([Col(children='Column 1', width=2), Col(children='Column 2', width=5), Col(children='Column 3', width=4)])"
      ]
     },
     "execution_count": 9,
     "metadata": {},
     "output_type": "execute_result"
    }
   ],
   "source": [
    "dbc.Row([\n",
    "    dbc.Col('Column 1', width=2),\n",
    "    dbc.Col('Column 2', width=5),\n",
    "    dbc.Col('Column 3', width=4)\n",
    "])"
   ]
  },
  {
   "cell_type": "code",
   "execution_count": null,
   "id": "f0e37b37-d5ee-4fe4-8327-57f5f3ed3aea",
   "metadata": {},
   "outputs": [],
   "source": []
  }
 ],
 "metadata": {
  "kernelspec": {
   "display_name": "Python 3 (ipykernel)",
   "language": "python",
   "name": "python3"
  },
  "language_info": {
   "codemirror_mode": {
    "name": "ipython",
    "version": 3
   },
   "file_extension": ".py",
   "mimetype": "text/x-python",
   "name": "python",
   "nbconvert_exporter": "python",
   "pygments_lexer": "ipython3",
   "version": "3.12.2"
  }
 },
 "nbformat": 4,
 "nbformat_minor": 5
}

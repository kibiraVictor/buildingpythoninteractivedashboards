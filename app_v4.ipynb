{
 "cells": [
  {
   "cell_type": "code",
   "execution_count": 5,
   "id": "b7f9ef56-8af2-45f1-ba5a-6052b98c6c6a",
   "metadata": {},
   "outputs": [],
   "source": [
    "import dash \n",
    "from dash import html\n",
    "import dash_bootstrap_components as dbc"
   ]
  },
  {
   "cell_type": "code",
   "execution_count": 6,
   "id": "2fe41a18-15b0-4fc3-a8b8-72a315b50c09",
   "metadata": {},
   "outputs": [],
   "source": [
    "app = dash.Dash(__name__, external_stylesheets=[dbc.themes.SUPERHERO])"
   ]
  },
  {
   "cell_type": "code",
   "execution_count": 7,
   "id": "e039bfe8-1045-4820-9589-f16c29bb7378",
   "metadata": {},
   "outputs": [],
   "source": [
    "\n",
    "app.layout = html.Div([\n",
    "    html.H1('Poverty and Equity Database'),\n",
    "    html.H2('The World Bank'),\n",
    "    dbc.Tabs([\n",
    "        dbc.Tab([\n",
    "            html.Ul([\n",
    "                html.Li('Number of Economies: 170'),\n",
    "                html.Li('Temporal Coverage: 1874-2019'),\n",
    "                html.Li('Update Frequency: Quarterly'),\n",
    "                html.Li('Last Updated: March 18, 2020'),\n",
    "                html.Li([\n",
    "                    'Source: ',\n",
    "                    html.A('https://datacatalog-worldbank-organisation/poverty-and-equity-database', \n",
    "                           href='https://datacatalog-worldbank-organisation/poverty-and-equity-database')\n",
    "                ])\n",
    "            ])\n",
    "        ], label='Key Facts'),\n",
    "        dbc.Tab([\n",
    "            html.Ul([\n",
    "                html.Br(),\n",
    "                html.Li('Book Title: Interactive Dashboards and Data Apps with Plotly and Dash'),\n",
    "                html.Li([\n",
    "                    'Github Repo: ',\n",
    "                    html.A('https://github.com/PacktPublishing/Interactive-Dashboards-and-Data-Apps-with-Plotly-and-Dash', \n",
    "                           href='https://github.com/PacktPublishing/Interactive-Dashboards-and-Data-Apps-with-Plotly-and-Dash')\n",
    "                ])\n",
    "            ])\n",
    "        ], label='Project Info')\n",
    "    ])\n",
    "])\n"
   ]
  },
  {
   "cell_type": "code",
   "execution_count": 8,
   "id": "384f024a-7693-4a52-ab2f-a01fbe678eed",
   "metadata": {},
   "outputs": [
    {
     "data": {
      "text/html": [
       "\n",
       "        <iframe\n",
       "            width=\"100%\"\n",
       "            height=\"650\"\n",
       "            src=\"http://127.0.0.1:8053/\"\n",
       "            frameborder=\"0\"\n",
       "            allowfullscreen\n",
       "            \n",
       "        ></iframe>\n",
       "        "
      ],
      "text/plain": [
       "<IPython.lib.display.IFrame at 0x7f55b0133710>"
      ]
     },
     "metadata": {},
     "output_type": "display_data"
    }
   ],
   "source": [
    "if __name__ == \"__main__\":\n",
    "    app.run_server(debug='True', port=8053)"
   ]
  },
  {
   "cell_type": "code",
   "execution_count": null,
   "id": "1e983e90-3048-4cc9-917f-c380916e7400",
   "metadata": {},
   "outputs": [],
   "source": []
  }
 ],
 "metadata": {
  "kernelspec": {
   "display_name": "Python 3 (ipykernel)",
   "language": "python",
   "name": "python3"
  },
  "language_info": {
   "codemirror_mode": {
    "name": "ipython",
    "version": 3
   },
   "file_extension": ".py",
   "mimetype": "text/x-python",
   "name": "python",
   "nbconvert_exporter": "python",
   "pygments_lexer": "ipython3",
   "version": "3.12.2"
  }
 },
 "nbformat": 4,
 "nbformat_minor": 5
}

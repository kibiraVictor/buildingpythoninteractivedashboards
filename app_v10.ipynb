{
 "cells": [
  {
   "cell_type": "code",
   "execution_count": 30,
   "id": "3b33e0d2-7211-4b85-9838-25a1e04f58cf",
   "metadata": {},
   "outputs": [],
   "source": [
    "import dash\n",
    "from dash import html\n",
    "from dash import dcc\n",
    "from dash.dependencies import Output, Input\n",
    "import dash_bootstrap_components as dbc"
   ]
  },
  {
   "cell_type": "code",
   "execution_count": 31,
   "id": "ca81b066-0577-4df6-a38d-5af2eb50a17e",
   "metadata": {},
   "outputs": [],
   "source": [
    "app = dash.Dash(__name__, external_stylesheets=['dbc.themes.DARKLY'])"
   ]
  },
  {
   "cell_type": "code",
   "execution_count": 32,
   "id": "05b0fbc7-9cae-4b03-8001-4b692a51c564",
   "metadata": {},
   "outputs": [],
   "source": [
    "import os"
   ]
  },
  {
   "cell_type": "code",
   "execution_count": 33,
   "id": "8d79e1d1-df27-48ce-a019-44438f22fe8c",
   "metadata": {},
   "outputs": [
    {
     "data": {
      "text/plain": [
       "['PovStatsData.csv']"
      ]
     },
     "execution_count": 33,
     "metadata": {},
     "output_type": "execute_result"
    }
   ],
   "source": [
    "os.listdir('data')"
   ]
  },
  {
   "cell_type": "code",
   "execution_count": 34,
   "id": "5ddbc202-514f-4f41-a49b-378d6a2264b8",
   "metadata": {},
   "outputs": [
    {
     "data": {
      "text/html": [
       "<div>\n",
       "<style scoped>\n",
       "    .dataframe tbody tr th:only-of-type {\n",
       "        vertical-align: middle;\n",
       "    }\n",
       "\n",
       "    .dataframe tbody tr th {\n",
       "        vertical-align: top;\n",
       "    }\n",
       "\n",
       "    .dataframe thead th {\n",
       "        text-align: right;\n",
       "    }\n",
       "</style>\n",
       "<table border=\"1\" class=\"dataframe\">\n",
       "  <thead>\n",
       "    <tr style=\"text-align: right;\">\n",
       "      <th></th>\n",
       "      <th>Country Name</th>\n",
       "      <th>Country Code</th>\n",
       "      <th>Indicator Name</th>\n",
       "      <th>Indicator Code</th>\n",
       "      <th>1974</th>\n",
       "      <th>1975</th>\n",
       "      <th>1976</th>\n",
       "      <th>1977</th>\n",
       "      <th>1978</th>\n",
       "      <th>1979</th>\n",
       "      <th>...</th>\n",
       "      <th>2011</th>\n",
       "      <th>2012</th>\n",
       "      <th>2013</th>\n",
       "      <th>2014</th>\n",
       "      <th>2015</th>\n",
       "      <th>2016</th>\n",
       "      <th>2017</th>\n",
       "      <th>2018</th>\n",
       "      <th>2019</th>\n",
       "      <th>Unnamed: 50</th>\n",
       "    </tr>\n",
       "  </thead>\n",
       "  <tbody>\n",
       "    <tr>\n",
       "      <th>0</th>\n",
       "      <td>East Asia &amp; Pacific</td>\n",
       "      <td>EAS</td>\n",
       "      <td>Annualized growth in per capita real survey me...</td>\n",
       "      <td>SI.SPR.PC40.ZG</td>\n",
       "      <td>NaN</td>\n",
       "      <td>NaN</td>\n",
       "      <td>NaN</td>\n",
       "      <td>NaN</td>\n",
       "      <td>NaN</td>\n",
       "      <td>NaN</td>\n",
       "      <td>...</td>\n",
       "      <td>NaN</td>\n",
       "      <td>NaN</td>\n",
       "      <td>NaN</td>\n",
       "      <td>NaN</td>\n",
       "      <td>NaN</td>\n",
       "      <td>NaN</td>\n",
       "      <td>NaN</td>\n",
       "      <td>NaN</td>\n",
       "      <td>NaN</td>\n",
       "      <td>NaN</td>\n",
       "    </tr>\n",
       "    <tr>\n",
       "      <th>1</th>\n",
       "      <td>East Asia &amp; Pacific</td>\n",
       "      <td>EAS</td>\n",
       "      <td>Annualized growth in per capita real survey me...</td>\n",
       "      <td>SI.SPR.PT10.ZG</td>\n",
       "      <td>NaN</td>\n",
       "      <td>NaN</td>\n",
       "      <td>NaN</td>\n",
       "      <td>NaN</td>\n",
       "      <td>NaN</td>\n",
       "      <td>NaN</td>\n",
       "      <td>...</td>\n",
       "      <td>NaN</td>\n",
       "      <td>NaN</td>\n",
       "      <td>NaN</td>\n",
       "      <td>NaN</td>\n",
       "      <td>NaN</td>\n",
       "      <td>NaN</td>\n",
       "      <td>NaN</td>\n",
       "      <td>NaN</td>\n",
       "      <td>NaN</td>\n",
       "      <td>NaN</td>\n",
       "    </tr>\n",
       "    <tr>\n",
       "      <th>2</th>\n",
       "      <td>East Asia &amp; Pacific</td>\n",
       "      <td>EAS</td>\n",
       "      <td>Annualized growth in per capita real survey me...</td>\n",
       "      <td>SI.SPR.PT60.ZG</td>\n",
       "      <td>NaN</td>\n",
       "      <td>NaN</td>\n",
       "      <td>NaN</td>\n",
       "      <td>NaN</td>\n",
       "      <td>NaN</td>\n",
       "      <td>NaN</td>\n",
       "      <td>...</td>\n",
       "      <td>NaN</td>\n",
       "      <td>NaN</td>\n",
       "      <td>NaN</td>\n",
       "      <td>NaN</td>\n",
       "      <td>NaN</td>\n",
       "      <td>NaN</td>\n",
       "      <td>NaN</td>\n",
       "      <td>NaN</td>\n",
       "      <td>NaN</td>\n",
       "      <td>NaN</td>\n",
       "    </tr>\n",
       "  </tbody>\n",
       "</table>\n",
       "<p>3 rows × 51 columns</p>\n",
       "</div>"
      ],
      "text/plain": [
       "          Country Name Country Code  \\\n",
       "0  East Asia & Pacific          EAS   \n",
       "1  East Asia & Pacific          EAS   \n",
       "2  East Asia & Pacific          EAS   \n",
       "\n",
       "                                      Indicator Name  Indicator Code  1974  \\\n",
       "0  Annualized growth in per capita real survey me...  SI.SPR.PC40.ZG   NaN   \n",
       "1  Annualized growth in per capita real survey me...  SI.SPR.PT10.ZG   NaN   \n",
       "2  Annualized growth in per capita real survey me...  SI.SPR.PT60.ZG   NaN   \n",
       "\n",
       "   1975  1976  1977  1978  1979  ...  2011  2012  2013  2014  2015  2016  \\\n",
       "0   NaN   NaN   NaN   NaN   NaN  ...   NaN   NaN   NaN   NaN   NaN   NaN   \n",
       "1   NaN   NaN   NaN   NaN   NaN  ...   NaN   NaN   NaN   NaN   NaN   NaN   \n",
       "2   NaN   NaN   NaN   NaN   NaN  ...   NaN   NaN   NaN   NaN   NaN   NaN   \n",
       "\n",
       "   2017  2018  2019  Unnamed: 50  \n",
       "0   NaN   NaN   NaN          NaN  \n",
       "1   NaN   NaN   NaN          NaN  \n",
       "2   NaN   NaN   NaN          NaN  \n",
       "\n",
       "[3 rows x 51 columns]"
      ]
     },
     "execution_count": 34,
     "metadata": {},
     "output_type": "execute_result"
    }
   ],
   "source": [
    "import pandas as pd\n",
    "poverty_data = pd.read_csv('data/PovStatsData.csv')\n",
    "poverty_data.head(3)"
   ]
  },
  {
   "cell_type": "code",
   "execution_count": 35,
   "id": "ec8f444c-9288-42d1-99fa-fdfd3d4e5c3e",
   "metadata": {},
   "outputs": [],
   "source": [
    "app.layout = html.Div([\n",
    "    html.H2('The World Bank'),\n",
    "    dcc.Dropdown(\n",
    "        id='country', \n",
    "        options=[{\n",
    "            'label': country, \n",
    "            'value': country\n",
    "        } for country in poverty_data['Country Name'].unique()]\n",
    "    ),\n",
    "    html.Br(),\n",
    "    html.Div(id='report'),\n",
    "\n",
    "    dbc.Tabs([\n",
    "        dbc.Tab(\n",
    "            html.Ul([\n",
    "                html.Li('Number of Economies: 170'),\n",
    "                html.Li('Temporal Coverage: 1974-2019'),\n",
    "                html.Li('Update Frequency: Quarterly'),\n",
    "                html.Li('Last Updated: MARCH 18, 2020'),\n",
    "                html.Li([\n",
    "                    'source: ',\n",
    "                    html.A('https://datacatalog.worldbank.org/dataset/poverty-and-equity-database', href='https://datacatalog.worldbank.org/dataset/poverty-and-equity-database')\n",
    "                ])\n",
    "            ]),\n",
    "            label='Key Facts'\n",
    "        ),\n",
    "        dbc.Tab(\n",
    "            html.Ul([\n",
    "                html.Li('Book title: Interactive Dashboards and Data Apps with Plotly and Dash'),\n",
    "                html.Li([\n",
    "                    'Github repo: ',\n",
    "                    html.A('https://github.com/PacktPublishing/Interactive-Dashboards-and-Data-Apps-with-Plotly-and-Dash', href='https://github.com/PacktPublishing/Interactive-Dashboards-and-Data-Apps-with-Plotly-and-Dash')\n",
    "                ])\n",
    "            ]),\n",
    "            label='Project Info'\n",
    "        )\n",
    "    ])\n",
    "])"
   ]
  },
  {
   "cell_type": "code",
   "execution_count": 36,
   "id": "8f6d53b0-84bc-440b-b2fe-cd3e532ec1ff",
   "metadata": {},
   "outputs": [],
   "source": [
    "@app.callback(\n",
    "    Output('report', 'children'),\n",
    "    Input('country', 'value')\n",
    ")\n",
    "def display_country_report(country):\n",
    "    if country is None:\n",
    "        return ''\n",
    "    \n",
    "    # Corrected filtering logic\n",
    "    filtered_df = poverty_data[\n",
    "        (poverty_data['Country Name'] == country) & \n",
    "        (poverty_data['Indicator Name'] == 'Population, total')\n",
    "    ]\n",
    "    \n",
    "    if filtered_df.empty:\n",
    "        return f'No data available for {country}'\n",
    "    \n",
    "    population = filtered_df['2010'].values[0]\n",
    "    \n",
    "    return [\n",
    "        html.H3(country),\n",
    "        f'The population of {country} in 2010 was {population:,}'\n",
    "    ]\n"
   ]
  },
  {
   "cell_type": "code",
   "execution_count": 37,
   "id": "436ae063-18d6-4fc4-8226-9595183d445c",
   "metadata": {},
   "outputs": [
    {
     "data": {
      "text/html": [
       "\n",
       "        <iframe\n",
       "            width=\"100%\"\n",
       "            height=\"650\"\n",
       "            src=\"http://127.0.0.1:9000/\"\n",
       "            frameborder=\"0\"\n",
       "            allowfullscreen\n",
       "            \n",
       "        ></iframe>\n",
       "        "
      ],
      "text/plain": [
       "<IPython.lib.display.IFrame at 0x7fa6d1f364e0>"
      ]
     },
     "metadata": {},
     "output_type": "display_data"
    }
   ],
   "source": [
    "if __name__ == '__main__':\n",
    "    app.run_server(debug=True, port=9000)"
   ]
  },
  {
   "cell_type": "code",
   "execution_count": null,
   "id": "cd360a22-f0ee-4ab7-8ffc-e664a2108380",
   "metadata": {},
   "outputs": [],
   "source": []
  }
 ],
 "metadata": {
  "kernelspec": {
   "display_name": "Python 3 (ipykernel)",
   "language": "python",
   "name": "python3"
  },
  "language_info": {
   "codemirror_mode": {
    "name": "ipython",
    "version": 3
   },
   "file_extension": ".py",
   "mimetype": "text/x-python",
   "name": "python",
   "nbconvert_exporter": "python",
   "pygments_lexer": "ipython3",
   "version": "3.12.2"
  }
 },
 "nbformat": 4,
 "nbformat_minor": 5
}

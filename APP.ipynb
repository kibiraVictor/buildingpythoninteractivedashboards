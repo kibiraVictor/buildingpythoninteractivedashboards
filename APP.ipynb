{
 "cells": [
  {
   "cell_type": "code",
   "execution_count": 3,
   "id": "84b6d87f-67bd-423b-bd76-0a815377bcb6",
   "metadata": {},
   "outputs": [],
   "source": [
    "import pandas as pd"
   ]
  },
  {
   "cell_type": "code",
   "execution_count": 4,
   "id": "b6a4a2c2-3ab5-423e-b136-eadd13137b49",
   "metadata": {},
   "outputs": [
    {
     "name": "stderr",
     "output_type": "stream",
     "text": [
      "/tmp/ipykernel_31920/16459251.py:1: DtypeWarning: Columns (66,67,73,79,82,83,87) have mixed types. Specify dtype option on import or set low_memory=False.\n",
      "  df = pd.read_csv('povertydata.csv')\n"
     ]
    }
   ],
   "source": [
    "df = pd.read_csv('povertydata.csv')"
   ]
  },
  {
   "cell_type": "code",
   "execution_count": 5,
   "id": "9e06cb31-fb56-4404-ba27-a1547a89fa96",
   "metadata": {},
   "outputs": [
    {
     "data": {
      "text/html": [
       "<div>\n",
       "<style scoped>\n",
       "    .dataframe tbody tr th:only-of-type {\n",
       "        vertical-align: middle;\n",
       "    }\n",
       "\n",
       "    .dataframe tbody tr th {\n",
       "        vertical-align: top;\n",
       "    }\n",
       "\n",
       "    .dataframe thead th {\n",
       "        text-align: right;\n",
       "    }\n",
       "</style>\n",
       "<table border=\"1\" class=\"dataframe\">\n",
       "  <thead>\n",
       "    <tr style=\"text-align: right;\">\n",
       "      <th></th>\n",
       "      <th>Country Name</th>\n",
       "      <th>Country Code</th>\n",
       "      <th>year</th>\n",
       "      <th>Annualized growth in per capita real survey mean consumption or income, bottom 40% (%)</th>\n",
       "      <th>Annualized growth in per capita real survey mean consumption or income, top 10% (%)</th>\n",
       "      <th>Annualized growth in per capita real survey mean consumption or income, top 60% (%)</th>\n",
       "      <th>Annualized growth in per capita real survey mean consumption or income, total population (%)</th>\n",
       "      <th>Annualized growth in per capita real survey median income or consumption expenditure (%)</th>\n",
       "      <th>GINI index (World Bank estimate)</th>\n",
       "      <th>Growth component of change in poverty at $1.90 a day (2011 PPP) (% of change)</th>\n",
       "      <th>...</th>\n",
       "      <th>IMF data dissemination standard</th>\n",
       "      <th>Latest population census</th>\n",
       "      <th>Latest household survey</th>\n",
       "      <th>Source of most recent Income and expenditure data</th>\n",
       "      <th>Vital registration complete</th>\n",
       "      <th>Latest agricultural census</th>\n",
       "      <th>Latest industrial data</th>\n",
       "      <th>Latest trade data</th>\n",
       "      <th>Unnamed: 30</th>\n",
       "      <th>is_country</th>\n",
       "    </tr>\n",
       "  </thead>\n",
       "  <tbody>\n",
       "    <tr>\n",
       "      <th>8036</th>\n",
       "      <td>Vietnam</td>\n",
       "      <td>VNM</td>\n",
       "      <td>1977</td>\n",
       "      <td>NaN</td>\n",
       "      <td>NaN</td>\n",
       "      <td>NaN</td>\n",
       "      <td>NaN</td>\n",
       "      <td>NaN</td>\n",
       "      <td>NaN</td>\n",
       "      <td>NaN</td>\n",
       "      <td>...</td>\n",
       "      <td>Enhanced General Data Dissemination System (e-...</td>\n",
       "      <td>2009</td>\n",
       "      <td>Multiple Indicator Cluster Survey, 2013/14</td>\n",
       "      <td>Integrated household survey (IHS), 2016</td>\n",
       "      <td>Yes</td>\n",
       "      <td>2016</td>\n",
       "      <td>2013.0</td>\n",
       "      <td>2017.0</td>\n",
       "      <td>NaN</td>\n",
       "      <td>True</td>\n",
       "    </tr>\n",
       "    <tr>\n",
       "      <th>7452</th>\n",
       "      <td>Tunisia</td>\n",
       "      <td>TUN</td>\n",
       "      <td>1978</td>\n",
       "      <td>NaN</td>\n",
       "      <td>NaN</td>\n",
       "      <td>NaN</td>\n",
       "      <td>NaN</td>\n",
       "      <td>NaN</td>\n",
       "      <td>NaN</td>\n",
       "      <td>NaN</td>\n",
       "      <td>...</td>\n",
       "      <td>Special Data Dissemination Standard (SDDS)</td>\n",
       "      <td>2014</td>\n",
       "      <td>Demographic and Health Survey, 2018</td>\n",
       "      <td>Integrated household survey (IHS), 2015</td>\n",
       "      <td>NaN</td>\n",
       "      <td>NaN</td>\n",
       "      <td>2010.0</td>\n",
       "      <td>2017.0</td>\n",
       "      <td>NaN</td>\n",
       "      <td>True</td>\n",
       "    </tr>\n",
       "    <tr>\n",
       "      <th>8110</th>\n",
       "      <td>World</td>\n",
       "      <td>WLD</td>\n",
       "      <td>1977</td>\n",
       "      <td>NaN</td>\n",
       "      <td>NaN</td>\n",
       "      <td>NaN</td>\n",
       "      <td>NaN</td>\n",
       "      <td>NaN</td>\n",
       "      <td>NaN</td>\n",
       "      <td>NaN</td>\n",
       "      <td>...</td>\n",
       "      <td>NaN</td>\n",
       "      <td>NaN</td>\n",
       "      <td>NaN</td>\n",
       "      <td>NaN</td>\n",
       "      <td>NaN</td>\n",
       "      <td>NaN</td>\n",
       "      <td>NaN</td>\n",
       "      <td>2016.0</td>\n",
       "      <td>NaN</td>\n",
       "      <td>False</td>\n",
       "    </tr>\n",
       "  </tbody>\n",
       "</table>\n",
       "<p>3 rows × 88 columns</p>\n",
       "</div>"
      ],
      "text/plain": [
       "     Country Name Country Code  year  \\\n",
       "8036      Vietnam          VNM  1977   \n",
       "7452      Tunisia          TUN  1978   \n",
       "8110        World          WLD  1977   \n",
       "\n",
       "      Annualized growth in per capita real survey mean consumption or income, bottom 40% (%)  \\\n",
       "8036                                                NaN                                        \n",
       "7452                                                NaN                                        \n",
       "8110                                                NaN                                        \n",
       "\n",
       "      Annualized growth in per capita real survey mean consumption or income, top 10% (%)  \\\n",
       "8036                                                NaN                                     \n",
       "7452                                                NaN                                     \n",
       "8110                                                NaN                                     \n",
       "\n",
       "      Annualized growth in per capita real survey mean consumption or income, top 60% (%)  \\\n",
       "8036                                                NaN                                     \n",
       "7452                                                NaN                                     \n",
       "8110                                                NaN                                     \n",
       "\n",
       "      Annualized growth in per capita real survey mean consumption or income, total population (%)  \\\n",
       "8036                                                NaN                                              \n",
       "7452                                                NaN                                              \n",
       "8110                                                NaN                                              \n",
       "\n",
       "      Annualized growth in per capita real survey median income or consumption expenditure (%)  \\\n",
       "8036                                                NaN                                          \n",
       "7452                                                NaN                                          \n",
       "8110                                                NaN                                          \n",
       "\n",
       "      GINI index (World Bank estimate)  \\\n",
       "8036                               NaN   \n",
       "7452                               NaN   \n",
       "8110                               NaN   \n",
       "\n",
       "      Growth component of change in poverty at $1.90 a day (2011 PPP) (% of change)  \\\n",
       "8036                                                NaN                               \n",
       "7452                                                NaN                               \n",
       "8110                                                NaN                               \n",
       "\n",
       "      ...                    IMF data dissemination standard  \\\n",
       "8036  ...  Enhanced General Data Dissemination System (e-...   \n",
       "7452  ...         Special Data Dissemination Standard (SDDS)   \n",
       "8110  ...                                                NaN   \n",
       "\n",
       "      Latest population census                     Latest household survey  \\\n",
       "8036                      2009  Multiple Indicator Cluster Survey, 2013/14   \n",
       "7452                      2014         Demographic and Health Survey, 2018   \n",
       "8110                       NaN                                         NaN   \n",
       "\n",
       "      Source of most recent Income and expenditure data  \\\n",
       "8036            Integrated household survey (IHS), 2016   \n",
       "7452            Integrated household survey (IHS), 2015   \n",
       "8110                                                NaN   \n",
       "\n",
       "      Vital registration complete  Latest agricultural census  \\\n",
       "8036                          Yes                        2016   \n",
       "7452                          NaN                         NaN   \n",
       "8110                          NaN                         NaN   \n",
       "\n",
       "      Latest industrial data  Latest trade data  Unnamed: 30  is_country  \n",
       "8036                  2013.0             2017.0          NaN        True  \n",
       "7452                  2010.0             2017.0          NaN        True  \n",
       "8110                     NaN             2016.0          NaN       False  \n",
       "\n",
       "[3 rows x 88 columns]"
      ]
     },
     "execution_count": 5,
     "metadata": {},
     "output_type": "execute_result"
    }
   ],
   "source": [
    "df.sample(3)"
   ]
  },
  {
   "cell_type": "code",
   "execution_count": 6,
   "id": "36317a3a-0472-40eb-9dd4-7f8bd8c0c2db",
   "metadata": {},
   "outputs": [
    {
     "data": {
      "text/plain": [
       "0        NaN\n",
       "1        NaN\n",
       "2        NaN\n",
       "3        NaN\n",
       "4        NaN\n",
       "        ... \n",
       "8282     NaN\n",
       "8283     NaN\n",
       "8284     NaN\n",
       "8285    44.3\n",
       "8286     NaN\n",
       "Name: GINI index (World Bank estimate), Length: 8287, dtype: float64"
      ]
     },
     "execution_count": 6,
     "metadata": {},
     "output_type": "execute_result"
    }
   ],
   "source": [
    "df['GINI index (World Bank estimate)']"
   ]
  },
  {
   "cell_type": "code",
   "execution_count": 7,
   "id": "0aa2c21b-bedf-49d9-9d25-f3b0081ded39",
   "metadata": {},
   "outputs": [
    {
     "data": {
      "text/plain": [
       "Country Name                                                                               object\n",
       "Country Code                                                                               object\n",
       "year                                                                                        int64\n",
       "Annualized growth in per capita real survey mean consumption or income, bottom 40% (%)    float64\n",
       "Annualized growth in per capita real survey mean consumption or income, top 10% (%)       float64\n",
       "                                                                                           ...   \n",
       "Latest agricultural census                                                                 object\n",
       "Latest industrial data                                                                    float64\n",
       "Latest trade data                                                                         float64\n",
       "Unnamed: 30                                                                               float64\n",
       "is_country                                                                                 object\n",
       "Length: 88, dtype: object"
      ]
     },
     "execution_count": 7,
     "metadata": {},
     "output_type": "execute_result"
    }
   ],
   "source": [
    "df.dtypes"
   ]
  },
  {
   "cell_type": "code",
   "execution_count": 9,
   "id": "83b521f5-aa40-4f0f-8d35-d5289e42d624",
   "metadata": {},
   "outputs": [],
   "source": [
    "df.columns = df.columns.str.strip()"
   ]
  },
  {
   "cell_type": "code",
   "execution_count": 10,
   "id": "4f657ea9-29ae-47c6-8e8e-b7de4398d911",
   "metadata": {},
   "outputs": [],
   "source": [
    "df = df[['Country Name', 'year', 'GINI index (World Bank estimate)']]"
   ]
  },
  {
   "cell_type": "code",
   "execution_count": 12,
   "id": "8054db2e-846f-4fb6-8d0b-b33f7a19dbdf",
   "metadata": {},
   "outputs": [
    {
     "data": {
      "text/plain": [
       "0       False\n",
       "1       False\n",
       "2       False\n",
       "3       False\n",
       "4       False\n",
       "        ...  \n",
       "8282    False\n",
       "8283    False\n",
       "8284    False\n",
       "8285     True\n",
       "8286    False\n",
       "Name: GINI index (World Bank estimate), Length: 8287, dtype: bool"
      ]
     },
     "execution_count": 12,
     "metadata": {},
     "output_type": "execute_result"
    }
   ],
   "source": [
    "df['GINI index (World Bank estimate)'].notna()"
   ]
  },
  {
   "cell_type": "code",
   "execution_count": null,
   "id": "54b8dd4b-8251-42ba-9407-f473f71b157d",
   "metadata": {},
   "outputs": [],
   "source": []
  }
 ],
 "metadata": {
  "kernelspec": {
   "display_name": "Python 3 (ipykernel)",
   "language": "python",
   "name": "python3"
  },
  "language_info": {
   "codemirror_mode": {
    "name": "ipython",
    "version": 3
   },
   "file_extension": ".py",
   "mimetype": "text/x-python",
   "name": "python",
   "nbconvert_exporter": "python",
   "pygments_lexer": "ipython3",
   "version": "3.12.2"
  }
 },
 "nbformat": 4,
 "nbformat_minor": 5
}
